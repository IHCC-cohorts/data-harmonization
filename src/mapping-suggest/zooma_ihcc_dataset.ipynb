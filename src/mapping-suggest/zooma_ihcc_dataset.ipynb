{
 "cells": [
  {
   "cell_type": "code",
   "execution_count": 40,
   "metadata": {},
   "outputs": [],
   "source": [
    "# Removed  build/intermediate/koges-xrefs-sparql.csv\n",
    "datasets=\"build/intermediate/gecko-xrefs-sparql.csv build/intermediate/gcs-xrefs-sparql.csv build/intermediate/genomics-england-xrefs-sparql.csv build/intermediate/maelstrom-xrefs-sparql.csv build/intermediate/saprin-xrefs-sparql.csv build/intermediate/vukuzazi-xrefs-sparql.csv build/intermediate/gcs-xrefs-sparql.csv build/intermediate/genomics-england-xrefs-sparql.csv build/intermediate/maelstrom-xrefs-sparql.csv build/intermediate/saprin-xrefs-sparql.csv build/intermediate/vukuzazi-xrefs-sparql.csv\"\n",
    "datasets=datasets.split(\" \")\n",
    "datasets = [\"../../\" + sub for sub in datasets] \n",
    "datasets\n",
    "file_basic_out=\"../../data/ihcc-mapping-suggestions-zooma-basic.tsv\"\n",
    "file_simplestring_out=\"../../data/ihcc-mapping-suggestions-zooma-simplestring.tsv\""
   ]
  },
  {
   "cell_type": "code",
   "execution_count": 41,
   "metadata": {},
   "outputs": [],
   "source": [
    "import os\n",
    "import pandas as pd\n",
    "import re\n",
    "from datetime import datetime\n",
    "import csv\n"
   ]
  },
  {
   "cell_type": "code",
   "execution_count": 42,
   "metadata": {},
   "outputs": [],
   "source": [
    "obo_purl=\"http://purl.obolibrary.org/obo/\"\n",
    "def obo_id_to_iri(obo_id):\n",
    "    if obo_id.startswith(obo_purl):\n",
    "        return obo_id\n",
    "    else:\n",
    "        return obo_purl+obo_id.replace(\":\",\"_\")\n",
    "    \n",
    "def compute_string_variants(label):\n",
    "    label_alpha = re.sub('[^0-9a-zA-Z ]+', ' ', label)\n",
    "    label_alpha = re.sub('\\s+', ' ', label_alpha)\n",
    "    label_split_numerics_alpha = re.sub('(?<=\\d)(?!\\d)|(?<!\\d)(?=\\d)', ' ', label_alpha)\n",
    "    label_split_numerics_alpha_camel = re.sub(\"([a-z])([A-Z])\",\"\\g<1> \\g<2>\",label_split_numerics_alpha)\n",
    "    label_split_numerics_alpha = re.sub('\\s+', ' ', label_split_numerics_alpha)\n",
    "    label_split_numerics_alpha_camel = re.sub('\\s+', ' ', label_split_numerics_alpha_camel)\n",
    "    #label_split_numerics = re.sub('(?<=\\d)(?!\\d)|(?<!\\d)(?=\\d)', ' ', label)\n",
    "    #label_split_numerics = re.sub('\\s+', ' ', label_split_numerics)\n",
    "    return [label_alpha.strip(), label_split_numerics_alpha.strip(),label_split_numerics_alpha_camel.strip()]\n",
    "\n",
    "def process_label(label):\n",
    "    return re.sub('\\s+', ' ', label)"
   ]
  },
  {
   "cell_type": "code",
   "execution_count": 43,
   "metadata": {},
   "outputs": [
    {
     "data": {
      "text/html": [
       "<div>\n",
       "<style scoped>\n",
       "    .dataframe tbody tr th:only-of-type {\n",
       "        vertical-align: middle;\n",
       "    }\n",
       "\n",
       "    .dataframe tbody tr th {\n",
       "        vertical-align: top;\n",
       "    }\n",
       "\n",
       "    .dataframe thead th {\n",
       "        text-align: right;\n",
       "    }\n",
       "</style>\n",
       "<table border=\"1\" class=\"dataframe\">\n",
       "  <thead>\n",
       "    <tr style=\"text-align: right;\">\n",
       "      <th></th>\n",
       "      <th>from</th>\n",
       "      <th>to</th>\n",
       "      <th>property</th>\n",
       "      <th>label</th>\n",
       "    </tr>\n",
       "  </thead>\n",
       "  <tbody>\n",
       "    <tr>\n",
       "      <th>0</th>\n",
       "      <td>https://purl.ihccglobal.org/GCS_FoodWatOthVeg</td>\n",
       "      <td>PATO:0001995</td>\n",
       "      <td>http://www.w3.org/2000/01/rdf-schema#label</td>\n",
       "      <td>FoodWatOthVeg</td>\n",
       "    </tr>\n",
       "    <tr>\n",
       "      <th>1</th>\n",
       "      <td>https://purl.ihccglobal.org/GCS_Vitamin_B12</td>\n",
       "      <td>GECKO:0000072</td>\n",
       "      <td>http://www.w3.org/2000/01/rdf-schema#label</td>\n",
       "      <td>Vitamin B12</td>\n",
       "    </tr>\n",
       "    <tr>\n",
       "      <th>2</th>\n",
       "      <td>https://purl.ihccglobal.org/GCS_TransfusionFlag</td>\n",
       "      <td>GECKO:0000091</td>\n",
       "      <td>http://www.w3.org/2000/01/rdf-schema#label</td>\n",
       "      <td>TransfusionFlag</td>\n",
       "    </tr>\n",
       "    <tr>\n",
       "      <th>3</th>\n",
       "      <td>https://purl.ihccglobal.org/GCS_WeightLossIntent</td>\n",
       "      <td>OGMS:0000020</td>\n",
       "      <td>http://www.w3.org/2000/01/rdf-schema#label</td>\n",
       "      <td>WeightLossIntent</td>\n",
       "    </tr>\n",
       "    <tr>\n",
       "      <th>4</th>\n",
       "      <td>https://purl.ihccglobal.org/GCS_City</td>\n",
       "      <td>GECKO:0000064</td>\n",
       "      <td>http://www.w3.org/2000/01/rdf-schema#label</td>\n",
       "      <td>City</td>\n",
       "    </tr>\n",
       "    <tr>\n",
       "      <th>...</th>\n",
       "      <td>...</td>\n",
       "      <td>...</td>\n",
       "      <td>...</td>\n",
       "      <td>...</td>\n",
       "    </tr>\n",
       "    <tr>\n",
       "      <th>410</th>\n",
       "      <td>https://purl.ihccglobal.org/VZ_FUSystolicBp</td>\n",
       "      <td>CMO:0000003</td>\n",
       "      <td>http://www.w3.org/2000/01/rdf-schema#label</td>\n",
       "      <td>Clinical Systolic Blood pressure reading</td>\n",
       "    </tr>\n",
       "    <tr>\n",
       "      <th>411</th>\n",
       "      <td>https://purl.ihccglobal.org/VZ_ConcurrMed1</td>\n",
       "      <td>GECKO:0000093</td>\n",
       "      <td>http://www.w3.org/2000/01/rdf-schema#label</td>\n",
       "      <td>Concurrent Medication 1</td>\n",
       "    </tr>\n",
       "    <tr>\n",
       "      <th>412</th>\n",
       "      <td>https://purl.ihccglobal.org/VZ_FUGlucose</td>\n",
       "      <td>UBERON:0000178</td>\n",
       "      <td>http://www.w3.org/2000/01/rdf-schema#label</td>\n",
       "      <td>Follow Up Glucose</td>\n",
       "    </tr>\n",
       "    <tr>\n",
       "      <th>413</th>\n",
       "      <td>https://purl.ihccglobal.org/VZ_EDT2Collected</td>\n",
       "      <td>GECKO:0000112</td>\n",
       "      <td>http://www.w3.org/2000/01/rdf-schema#label</td>\n",
       "      <td>EDT2 Collected</td>\n",
       "    </tr>\n",
       "    <tr>\n",
       "      <th>414</th>\n",
       "      <td>https://purl.ihccglobal.org/VZ_RadiologistLung...</td>\n",
       "      <td>CMO:0000000</td>\n",
       "      <td>http://www.w3.org/2000/01/rdf-schema#label</td>\n",
       "      <td>Radiologist LungFields</td>\n",
       "    </tr>\n",
       "  </tbody>\n",
       "</table>\n",
       "<p>4930 rows × 4 columns</p>\n",
       "</div>"
      ],
      "text/plain": [
       "                                                  from              to  \\\n",
       "0        https://purl.ihccglobal.org/GCS_FoodWatOthVeg    PATO:0001995   \n",
       "1          https://purl.ihccglobal.org/GCS_Vitamin_B12   GECKO:0000072   \n",
       "2      https://purl.ihccglobal.org/GCS_TransfusionFlag   GECKO:0000091   \n",
       "3     https://purl.ihccglobal.org/GCS_WeightLossIntent    OGMS:0000020   \n",
       "4                 https://purl.ihccglobal.org/GCS_City   GECKO:0000064   \n",
       "..                                                 ...             ...   \n",
       "410        https://purl.ihccglobal.org/VZ_FUSystolicBp     CMO:0000003   \n",
       "411         https://purl.ihccglobal.org/VZ_ConcurrMed1   GECKO:0000093   \n",
       "412           https://purl.ihccglobal.org/VZ_FUGlucose  UBERON:0000178   \n",
       "413       https://purl.ihccglobal.org/VZ_EDT2Collected   GECKO:0000112   \n",
       "414  https://purl.ihccglobal.org/VZ_RadiologistLung...     CMO:0000000   \n",
       "\n",
       "                                       property  \\\n",
       "0    http://www.w3.org/2000/01/rdf-schema#label   \n",
       "1    http://www.w3.org/2000/01/rdf-schema#label   \n",
       "2    http://www.w3.org/2000/01/rdf-schema#label   \n",
       "3    http://www.w3.org/2000/01/rdf-schema#label   \n",
       "4    http://www.w3.org/2000/01/rdf-schema#label   \n",
       "..                                          ...   \n",
       "410  http://www.w3.org/2000/01/rdf-schema#label   \n",
       "411  http://www.w3.org/2000/01/rdf-schema#label   \n",
       "412  http://www.w3.org/2000/01/rdf-schema#label   \n",
       "413  http://www.w3.org/2000/01/rdf-schema#label   \n",
       "414  http://www.w3.org/2000/01/rdf-schema#label   \n",
       "\n",
       "                                        label  \n",
       "0                               FoodWatOthVeg  \n",
       "1                                 Vitamin B12  \n",
       "2                             TransfusionFlag  \n",
       "3                            WeightLossIntent  \n",
       "4                                        City  \n",
       "..                                        ...  \n",
       "410  Clinical Systolic Blood pressure reading  \n",
       "411                   Concurrent Medication 1  \n",
       "412                         Follow Up Glucose  \n",
       "413                            EDT2 Collected  \n",
       "414                    Radiologist LungFields  \n",
       "\n",
       "[4930 rows x 4 columns]"
      ]
     },
     "execution_count": 43,
     "metadata": {},
     "output_type": "execute_result"
    }
   ],
   "source": [
    "gecko = pd.read_csv(datasets[0])\n",
    "df = pd.concat([pd.read_csv(f) for f in datasets[1:] ])\n",
    "df"
   ]
  },
  {
   "cell_type": "code",
   "execution_count": 44,
   "metadata": {},
   "outputs": [
    {
     "data": {
      "text/html": [
       "<div>\n",
       "<style scoped>\n",
       "    .dataframe tbody tr th:only-of-type {\n",
       "        vertical-align: middle;\n",
       "    }\n",
       "\n",
       "    .dataframe tbody tr th {\n",
       "        vertical-align: top;\n",
       "    }\n",
       "\n",
       "    .dataframe thead th {\n",
       "        text-align: right;\n",
       "    }\n",
       "</style>\n",
       "<table border=\"1\" class=\"dataframe\">\n",
       "  <thead>\n",
       "    <tr style=\"text-align: right;\">\n",
       "      <th></th>\n",
       "      <th>STUDY</th>\n",
       "      <th>BIOENTITY</th>\n",
       "      <th>PROPERTY_TYPE</th>\n",
       "      <th>PROPERTY_VALUE</th>\n",
       "      <th>SEMANTIC_TAG</th>\n",
       "      <th>ANNOTATOR</th>\n",
       "      <th>ANNOTATION_DATE</th>\n",
       "    </tr>\n",
       "  </thead>\n",
       "  <tbody>\n",
       "    <tr>\n",
       "      <th>0</th>\n",
       "      <td>IHCC Simple String</td>\n",
       "      <td>https://purl.ihccglobal.org/GCS_FoodWatOthVeg</td>\n",
       "      <td>information_entity</td>\n",
       "      <td>FoodWatOthVeg</td>\n",
       "      <td>http://purl.obolibrary.org/obo/PATO_0001995</td>\n",
       "      <td>Knocean</td>\n",
       "      <td>2020-08-27 20:37:04</td>\n",
       "    </tr>\n",
       "    <tr>\n",
       "      <th>1</th>\n",
       "      <td>IHCC Simple String</td>\n",
       "      <td>https://purl.ihccglobal.org/GCS_FoodWatOthVeg</td>\n",
       "      <td>information_entity</td>\n",
       "      <td>FoodWatOthVeg</td>\n",
       "      <td>http://purl.obolibrary.org/obo/PATO_0001995</td>\n",
       "      <td>Knocean</td>\n",
       "      <td>2020-08-27 20:37:04</td>\n",
       "    </tr>\n",
       "    <tr>\n",
       "      <th>2</th>\n",
       "      <td>IHCC Simple String</td>\n",
       "      <td>https://purl.ihccglobal.org/GCS_FoodWatOthVeg</td>\n",
       "      <td>information_entity</td>\n",
       "      <td>FoodWatOthVeg</td>\n",
       "      <td>http://purl.obolibrary.org/obo/PATO_0001995</td>\n",
       "      <td>Knocean</td>\n",
       "      <td>2020-08-27 20:37:04</td>\n",
       "    </tr>\n",
       "    <tr>\n",
       "      <th>3</th>\n",
       "      <td>IHCC Simple String</td>\n",
       "      <td>https://purl.ihccglobal.org/GCS_FoodWatOthVeg</td>\n",
       "      <td>information_entity</td>\n",
       "      <td>Food Wat Oth Veg</td>\n",
       "      <td>http://purl.obolibrary.org/obo/PATO_0001995</td>\n",
       "      <td>Knocean</td>\n",
       "      <td>2020-08-27 20:37:04</td>\n",
       "    </tr>\n",
       "    <tr>\n",
       "      <th>4</th>\n",
       "      <td>IHCC Simple String</td>\n",
       "      <td>https://purl.ihccglobal.org/GCS_Vitamin_B12</td>\n",
       "      <td>information_entity</td>\n",
       "      <td>Vitamin B12</td>\n",
       "      <td>http://purl.obolibrary.org/obo/GECKO_0000072</td>\n",
       "      <td>Knocean</td>\n",
       "      <td>2020-08-27 20:37:04</td>\n",
       "    </tr>\n",
       "    <tr>\n",
       "      <th>...</th>\n",
       "      <td>...</td>\n",
       "      <td>...</td>\n",
       "      <td>...</td>\n",
       "      <td>...</td>\n",
       "      <td>...</td>\n",
       "      <td>...</td>\n",
       "      <td>...</td>\n",
       "    </tr>\n",
       "    <tr>\n",
       "      <th>19715</th>\n",
       "      <td>IHCC Simple String</td>\n",
       "      <td>https://purl.ihccglobal.org/VZ_EDT2Collected</td>\n",
       "      <td>information_entity</td>\n",
       "      <td>EDT 2 Collected</td>\n",
       "      <td>http://purl.obolibrary.org/obo/GECKO_0000112</td>\n",
       "      <td>Knocean</td>\n",
       "      <td>2020-08-27 20:37:04</td>\n",
       "    </tr>\n",
       "    <tr>\n",
       "      <th>19716</th>\n",
       "      <td>IHCC Simple String</td>\n",
       "      <td>https://purl.ihccglobal.org/VZ_RadiologistLung...</td>\n",
       "      <td>information_entity</td>\n",
       "      <td>Radiologist LungFields</td>\n",
       "      <td>http://purl.obolibrary.org/obo/CMO_0000000</td>\n",
       "      <td>Knocean</td>\n",
       "      <td>2020-08-27 20:37:04</td>\n",
       "    </tr>\n",
       "    <tr>\n",
       "      <th>19717</th>\n",
       "      <td>IHCC Simple String</td>\n",
       "      <td>https://purl.ihccglobal.org/VZ_RadiologistLung...</td>\n",
       "      <td>information_entity</td>\n",
       "      <td>Radiologist LungFields</td>\n",
       "      <td>http://purl.obolibrary.org/obo/CMO_0000000</td>\n",
       "      <td>Knocean</td>\n",
       "      <td>2020-08-27 20:37:04</td>\n",
       "    </tr>\n",
       "    <tr>\n",
       "      <th>19718</th>\n",
       "      <td>IHCC Simple String</td>\n",
       "      <td>https://purl.ihccglobal.org/VZ_RadiologistLung...</td>\n",
       "      <td>information_entity</td>\n",
       "      <td>Radiologist LungFields</td>\n",
       "      <td>http://purl.obolibrary.org/obo/CMO_0000000</td>\n",
       "      <td>Knocean</td>\n",
       "      <td>2020-08-27 20:37:04</td>\n",
       "    </tr>\n",
       "    <tr>\n",
       "      <th>19719</th>\n",
       "      <td>IHCC Simple String</td>\n",
       "      <td>https://purl.ihccglobal.org/VZ_RadiologistLung...</td>\n",
       "      <td>information_entity</td>\n",
       "      <td>Radiologist Lung Fields</td>\n",
       "      <td>http://purl.obolibrary.org/obo/CMO_0000000</td>\n",
       "      <td>Knocean</td>\n",
       "      <td>2020-08-27 20:37:04</td>\n",
       "    </tr>\n",
       "  </tbody>\n",
       "</table>\n",
       "<p>19720 rows × 7 columns</p>\n",
       "</div>"
      ],
      "text/plain": [
       "                    STUDY                                          BIOENTITY  \\\n",
       "0      IHCC Simple String      https://purl.ihccglobal.org/GCS_FoodWatOthVeg   \n",
       "1      IHCC Simple String      https://purl.ihccglobal.org/GCS_FoodWatOthVeg   \n",
       "2      IHCC Simple String      https://purl.ihccglobal.org/GCS_FoodWatOthVeg   \n",
       "3      IHCC Simple String      https://purl.ihccglobal.org/GCS_FoodWatOthVeg   \n",
       "4      IHCC Simple String        https://purl.ihccglobal.org/GCS_Vitamin_B12   \n",
       "...                   ...                                                ...   \n",
       "19715  IHCC Simple String       https://purl.ihccglobal.org/VZ_EDT2Collected   \n",
       "19716  IHCC Simple String  https://purl.ihccglobal.org/VZ_RadiologistLung...   \n",
       "19717  IHCC Simple String  https://purl.ihccglobal.org/VZ_RadiologistLung...   \n",
       "19718  IHCC Simple String  https://purl.ihccglobal.org/VZ_RadiologistLung...   \n",
       "19719  IHCC Simple String  https://purl.ihccglobal.org/VZ_RadiologistLung...   \n",
       "\n",
       "            PROPERTY_TYPE           PROPERTY_VALUE  \\\n",
       "0      information_entity            FoodWatOthVeg   \n",
       "1      information_entity            FoodWatOthVeg   \n",
       "2      information_entity            FoodWatOthVeg   \n",
       "3      information_entity         Food Wat Oth Veg   \n",
       "4      information_entity              Vitamin B12   \n",
       "...                   ...                      ...   \n",
       "19715  information_entity          EDT 2 Collected   \n",
       "19716  information_entity   Radiologist LungFields   \n",
       "19717  information_entity   Radiologist LungFields   \n",
       "19718  information_entity   Radiologist LungFields   \n",
       "19719  information_entity  Radiologist Lung Fields   \n",
       "\n",
       "                                       SEMANTIC_TAG ANNOTATOR  \\\n",
       "0       http://purl.obolibrary.org/obo/PATO_0001995   Knocean   \n",
       "1       http://purl.obolibrary.org/obo/PATO_0001995   Knocean   \n",
       "2       http://purl.obolibrary.org/obo/PATO_0001995   Knocean   \n",
       "3       http://purl.obolibrary.org/obo/PATO_0001995   Knocean   \n",
       "4      http://purl.obolibrary.org/obo/GECKO_0000072   Knocean   \n",
       "...                                             ...       ...   \n",
       "19715  http://purl.obolibrary.org/obo/GECKO_0000112   Knocean   \n",
       "19716    http://purl.obolibrary.org/obo/CMO_0000000   Knocean   \n",
       "19717    http://purl.obolibrary.org/obo/CMO_0000000   Knocean   \n",
       "19718    http://purl.obolibrary.org/obo/CMO_0000000   Knocean   \n",
       "19719    http://purl.obolibrary.org/obo/CMO_0000000   Knocean   \n",
       "\n",
       "           ANNOTATION_DATE  \n",
       "0      2020-08-27 20:37:04  \n",
       "1      2020-08-27 20:37:04  \n",
       "2      2020-08-27 20:37:04  \n",
       "3      2020-08-27 20:37:04  \n",
       "4      2020-08-27 20:37:04  \n",
       "...                    ...  \n",
       "19715  2020-08-27 20:37:04  \n",
       "19716  2020-08-27 20:37:04  \n",
       "19717  2020-08-27 20:37:04  \n",
       "19718  2020-08-27 20:37:04  \n",
       "19719  2020-08-27 20:37:04  \n",
       "\n",
       "[19720 rows x 7 columns]"
      ]
     },
     "execution_count": 44,
     "metadata": {},
     "output_type": "execute_result"
    }
   ],
   "source": [
    "#STUDY,BIOENTITY,PROPERTY_TYPE,PROPERTY_VALUE,SEMANTIC_TAG,ANNOTATOR,ANNOTATION_DATE\n",
    "# , ,entity,blood,http://purl.obolibrary.org/obo/CMO_0000012,Knocean,2020-08-26 17:00:00\n",
    "zooma_file_basic = []\n",
    "zooma_file_simplestring = [] \n",
    "current_date=datetime.now().strftime(\"%Y-%m-%d %H:%M:%S\")\n",
    "\n",
    "for index, row in df.iterrows():\n",
    "    fromE = row['from']\n",
    "    toE = obo_id_to_iri(row['to'])\n",
    "    propertyE = row['property']\n",
    "    label = process_label(row['label'])\n",
    "    zooma_file_basic.append([\"IHCC Basic\",fromE,\"information_entity\",label,toE,\"Knocean\",current_date])\n",
    "    zooma_file_simplestring.append([\"IHCC Simple String\",fromE,\"information_entity\",label,toE,\"Knocean\",current_date])\n",
    "    string_variants = compute_string_variants(label)\n",
    "    for string_variant in string_variants:\n",
    "        zooma_file_simplestring.append([\"IHCC Simple String\",fromE,\"information_entity\",string_variant,toE,\"Knocean\",current_date])\n",
    "\n",
    "df_basic_out=pd.DataFrame(zooma_file_basic,columns=['STUDY','BIOENTITY','PROPERTY_TYPE','PROPERTY_VALUE','SEMANTIC_TAG','ANNOTATOR','ANNOTATION_DATE'])\n",
    "df_simplestring_out=pd.DataFrame(zooma_file_simplestring,columns=['STUDY','BIOENTITY','PROPERTY_TYPE','PROPERTY_VALUE','SEMANTIC_TAG','ANNOTATOR','ANNOTATION_DATE'])\n",
    "\n",
    "df_simplestring_out"
   ]
  },
  {
   "cell_type": "code",
   "execution_count": 45,
   "metadata": {},
   "outputs": [],
   "source": [
    "df_basic_out.drop_duplicates().to_csv(file_basic_out,index=False, sep=\"\\t\", quoting=csv.QUOTE_NONE, escapechar=\"\\\\\")"
   ]
  },
  {
   "cell_type": "code",
   "execution_count": 46,
   "metadata": {},
   "outputs": [],
   "source": [
    "df_simplestring_out.drop_duplicates().to_csv(file_simplestring_out,index=False, sep=\"\\t\", quoting=csv.QUOTE_NONE, escapechar=\"\\\\\")"
   ]
  },
  {
   "cell_type": "code",
   "execution_count": 102,
   "metadata": {},
   "outputs": [],
   "source": [
    "from sklearn.metrics import f1_score\n",
    "from sklearn.model_selection import train_test_split\n",
    "from sklearn.feature_extraction.text import CountVectorizer\n"
   ]
  },
  {
   "cell_type": "code",
   "execution_count": 103,
   "metadata": {},
   "outputs": [
    {
     "data": {
      "text/plain": [
       "0                  FoodWatOthVeg\n",
       "1                  FoodWatOthVeg\n",
       "2                  FoodWatOthVeg\n",
       "3               Food Wat Oth Veg\n",
       "4                      Vitamin B\n",
       "                  ...           \n",
       "19715             EDT  Collected\n",
       "19716     Radiologist LungFields\n",
       "19717     Radiologist LungFields\n",
       "19718     Radiologist LungFields\n",
       "19719    Radiologist Lung Fields\n",
       "Name: PROPERTY_VALUE, Length: 19720, dtype: object"
      ]
     },
     "execution_count": 103,
     "metadata": {},
     "output_type": "execute_result"
    }
   ],
   "source": [
    "X = df_simplestring_out.PROPERTY_VALUE\n",
    "X = X.str.replace('[\\d_]+','')\n",
    "y = df_simplestring_out.SEMANTIC_TAG\n",
    "X"
   ]
  },
  {
   "cell_type": "code",
   "execution_count": 104,
   "metadata": {},
   "outputs": [],
   "source": [
    "X_train, X_test, y_train, y_test = train_test_split(X, y, test_size=0.2, random_state=100, stratify = y)"
   ]
  },
  {
   "cell_type": "code",
   "execution_count": 105,
   "metadata": {},
   "outputs": [
    {
     "data": {
      "text/plain": [
       "5273     http://purl.obolibrary.org/obo/GECKO_0000006\n",
       "6241     http://purl.obolibrary.org/obo/GECKO_0000006\n",
       "1405      http://purl.obolibrary.org/obo/PATO_0001995\n",
       "8084     http://purl.obolibrary.org/obo/GECKO_0000064\n",
       "13909    http://purl.obolibrary.org/obo/GECKO_0000006\n",
       "                             ...                     \n",
       "4017     http://purl.obolibrary.org/obo/GECKO_0000052\n",
       "1947      http://purl.obolibrary.org/obo/PATO_0001995\n",
       "2378     http://purl.obolibrary.org/obo/GECKO_0000006\n",
       "17709    http://purl.obolibrary.org/obo/GECKO_0000055\n",
       "12567    http://purl.obolibrary.org/obo/GECKO_0000052\n",
       "Name: SEMANTIC_TAG, Length: 3944, dtype: object"
      ]
     },
     "execution_count": 105,
     "metadata": {},
     "output_type": "execute_result"
    }
   ],
   "source": [
    "y_test"
   ]
  },
  {
   "cell_type": "code",
   "execution_count": 106,
   "metadata": {},
   "outputs": [],
   "source": [
    "count_vect = CountVectorizer(ngram_range = (1,2),min_df=2).fit(X_train)\n",
    "X_train_counts = count_vect.transform(X_train)"
   ]
  },
  {
   "cell_type": "code",
   "execution_count": 107,
   "metadata": {},
   "outputs": [
    {
     "data": {
      "text/plain": [
       "(15776, 4038)"
      ]
     },
     "execution_count": 107,
     "metadata": {},
     "output_type": "execute_result"
    }
   ],
   "source": [
    "X_train_counts.shape"
   ]
  },
  {
   "cell_type": "code",
   "execution_count": 108,
   "metadata": {},
   "outputs": [],
   "source": [
    "vocabulary = count_vect.vocabulary_"
   ]
  },
  {
   "cell_type": "code",
   "execution_count": 109,
   "metadata": {},
   "outputs": [
    {
     "name": "stdout",
     "output_type": "stream",
     "text": [
      "[('of', 1126), ('mhd', 780), ('date', 684), ('and', 501), ('code', 457), ('score', 454), ('medical', 416), ('officer', 395), ('medical officer', 395), ('vv', 358), ('lung', 352), ('medication', 316), ('care', 306), ('to', 297), ('invest', 270), ('diagnostic', 265), ('radiologist', 263), ('start', 257), ('ic', 238), ('or', 222), ('other', 220), ('age', 215), ('number', 205), ('period', 198), ('concurrent', 195), ('concurrent medication', 195), ('diag', 194), ('treatment', 189), ('not', 184), ('residence', 184), ('collected', 181), ('kr', 181), ('right', 180), ('left', 180), ('id', 176), ('right lung', 171), ('left lung', 171), ('rec', 169), ('ic rec', 169), ('start date', 167), ('hr', 167), ('the', 166), ('cause', 163), ('type', 159), ('treat', 159), ('status', 158), ('icd', 158), ('multiple', 156), ('test', 153), ('high', 152), ('duration', 147), ('flag', 147), ('patient', 146), ('opdate', 146), ('opertn', 145), ('cause code', 144), ('honos', 140), ('icd multiple', 140), ('multiple cause', 140), ('tb', 140), ('episode', 135), ('of residence', 134), ('mhd honos', 134), ('blood', 132), ('bp', 130), ('honosrating', 126), ('care period', 124), ('augmented', 123), ('area', 121), ('date of', 119), ('system', 118), ('at', 118), ('honosrating score', 117), ('augmented care', 116), ('health', 115), ('hiv', 111), ('in', 110), ('days', 108), ('result', 103), ('cxr', 100), ('referral', 100), ('diagnosis', 97), ('quantity', 96), ('up', 96), ('provider', 95), ('delivery', 95), ('indicator', 95), ('first', 95), ('ever', 94), ('last', 94), ('alcohol', 94), ('rp', 93), ('diseases', 92), ('sufficient', 91), ('specimen', 91), ('missing', 91), ('unable', 91), ('run', 91), ('quantity not', 91), ('not sufficient', 91)]\n"
     ]
    }
   ],
   "source": [
    "#Get the most frequent words\n",
    "sum_words = X_train_counts.sum(axis=0) \n",
    "words_freq = [(word, sum_words[0, idx]) for word, idx in vocabulary.items()]\n",
    "words_freq =sorted(words_freq, key = lambda x: x[1], reverse=True)\n",
    "print(words_freq[:100])"
   ]
  },
  {
   "cell_type": "code",
   "execution_count": 110,
   "metadata": {},
   "outputs": [
    {
     "name": "stdout",
     "output_type": "stream",
     "text": [
      "[('samp hair', 2), ('hair avail', 2), ('mhddischreason', 2), ('regimenmodstoppedearly', 2), ('icrecrpddiscdays', 2), ('interviewpdatey', 2), ('mhdrefrecdate', 2), ('mhdexpirytime', 2), ('txflag', 2), ('reflux heartburn', 2), ('heartburn txflag', 2), ('mhdemerpsychdate', 2), ('loss intent', 2), ('icrecendrprecallflag', 2), ('mhddischmet', 2), ('mhdvalidpostcodeflag', 2), ('jaundice dx', 2), ('liver dx', 2), ('qbleeding', 2), ('mhdmhmdspersonid', 2), ('patientpseudoid', 2), ('mhdexpirydate', 2), ('qsurgerydate', 2), ('bdatepdatem', 2), ('druggroup', 2), ('partnership', 2), ('partnership status', 2), ('degrees', 2), ('temp degrees', 2), ('mhdhonoshonosratingtype', 2), ('friend cell', 2), ('liver age', 2), ('mhdhonossecureratingcscore', 2), ('health status', 2), ('mem area', 2), ('startdateofregimen', 2), ('icspellrpdays', 2), ('last name', 2), ('friend name', 2), ('mhdjobrole', 2), ('oth fish', 2), ('marriage', 2), ('marriage date', 2), ('mhdcodeofcommissioner', 2), ('mhdpostcodedistrict', 2), ('surgery flag', 2), ('mhdhonossecureratingdscore', 2), ('mhdhonossecureratingescore', 2), ('surgery age', 2), ('icrecrpdischargesgross', 2), ('icrecrpdayattcontactsatt', 2), ('sodium', 2), ('na', 2), ('sodium na', 2), ('date union', 2), ('mhdnhsoccupcode', 2), ('heartburn when', 2), ('home size', 2), ('mhdweeklyhoursworked', 2), ('bdatepdatey', 2), ('attendant', 2), ('birth attendant', 2), ('steam fish', 2), ('anti htn', 2), ('mhdcareclustersuperclasscode', 2), ('failure dx', 2), ('dis stroke', 2), ('stroke age', 2), ('dateofdeath', 2), ('mhdpctofgppractice', 2), ('mhdassessment', 2), ('motorcycle', 2), ('property motorcycle', 2), ('motorcycle owned', 2), ('began', 2), ('work age', 2), ('age began', 2), ('tb gene', 2), ('xpert test', 2), ('alc ever', 2), ('icrecendrpsctflag', 2), ('nightwheezing', 2), ('mhdcontactsubject', 2), ('tvyears', 2), ('color tvyears', 2), ('scorechange', 2), ('startdateofcycle', 2), ('freezer owned', 2), ('mhdenddatemhcs', 2), ('location household', 2), ('mhdclusteringtoolassessmentreason', 2), ('vvqscorecomplete', 2), ('friend house', 2), ('icepisodeepidays', 2), ('type pregnancy', 2), ('icevesecondarydiagnosis', 2), ('didsnomedctcode', 2), ('resstha', 2), ('his', 2), ('resstha his', 2)]\n"
     ]
    }
   ],
   "source": [
    "print(words_freq[-100:])"
   ]
  },
  {
   "cell_type": "code",
   "execution_count": 111,
   "metadata": {},
   "outputs": [],
   "source": [
    "from sklearn.naive_bayes import MultinomialNB\n",
    "clf = MultinomialNB(alpha = 0.1).fit(X_train_counts, y_train)"
   ]
  },
  {
   "cell_type": "code",
   "execution_count": 112,
   "metadata": {},
   "outputs": [],
   "source": [
    "from sklearn.metrics import accuracy_score\n",
    "X_test_counts = count_vect.transform(X_test)\n",
    "y_pred  = clf.predict(X_test_counts)"
   ]
  },
  {
   "cell_type": "code",
   "execution_count": 145,
   "metadata": {},
   "outputs": [
    {
     "data": {
      "text/plain": [
       "<3944x4038 sparse matrix of type '<class 'numpy.int64'>'\n",
       "\twith 15824 stored elements in Compressed Sparse Row format>"
      ]
     },
     "execution_count": 145,
     "metadata": {},
     "output_type": "execute_result"
    }
   ],
   "source": [
    "X_test_counts"
   ]
  },
  {
   "cell_type": "code",
   "execution_count": 113,
   "metadata": {},
   "outputs": [],
   "source": [
    "def print_results(y_test,y_pred):\n",
    "    acc = accuracy_score(y_test,y_pred)\n",
    "    print('Overall accuracy : '+str(acc))\n",
    "    f1_micro = f1_score(y_test, y_pred, average = 'micro')\n",
    "    f1_macro = f1_score(y_test, y_pred, average = 'macro')\n",
    "    f1_all = f1_score(y_test, y_pred, average = None)\n",
    "\n",
    "    print('F1 micro : ' +str(f1_micro))\n",
    "    print('F1 macro : ' +str(f1_macro))\n",
    "    print('F1 for each class : ' +str(f1_all))"
   ]
  },
  {
   "cell_type": "code",
   "execution_count": 115,
   "metadata": {},
   "outputs": [
    {
     "name": "stdout",
     "output_type": "stream",
     "text": [
      "Overall accuracy : 0.9290060851926978\n",
      "F1 micro : 0.9290060851926978\n",
      "F1 macro : 0.8940365406840922\n",
      "F1 for each class : [0.80784314 1.         0.97727273 0.6        1.         1.\n",
      " 1.         1.         0.95192308 1.         0.75121951 1.\n",
      " 0.92177077 0.87234043 1.         0.92857143 0.86363636 1.\n",
      " 0.95652174 0.         0.9787234  1.         0.98       1.\n",
      " 1.         0.97014925 0.86904762 0.97435897 0.99009901 0.94915254\n",
      " 0.91803279 1.         1.         1.         0.96385542 0.90956072\n",
      " 0.96801706 1.         0.97087379 0.94285714 1.         0.66666667\n",
      " 1.         0.90322581 1.         1.         0.95769882 0.84\n",
      " 0.7        0.96245734 0.98130841 0.83333333 0.89272031 0.9047619\n",
      " 0.96875    0.33333333 0.        ]\n"
     ]
    }
   ],
   "source": [
    "print_results(y_test,y_pred)"
   ]
  },
  {
   "cell_type": "markdown",
   "metadata": {},
   "source": [
    "###### TFIDF"
   ]
  },
  {
   "cell_type": "code",
   "execution_count": 118,
   "metadata": {},
   "outputs": [
    {
     "data": {
      "text/plain": [
       "<15776x3694 sparse matrix of type '<class 'numpy.float64'>'\n",
       "\twith 55761 stored elements in Compressed Sparse Row format>"
      ]
     },
     "execution_count": 118,
     "metadata": {},
     "output_type": "execute_result"
    }
   ],
   "source": [
    "from sklearn.feature_extraction.text import TfidfVectorizer\n",
    "tfidf_vect = TfidfVectorizer(ngram_range = (1,2), stop_words = 'english', min_df = 2).fit(X_train)\n",
    "X_train_tfidf = tfidf_vect.transform(X_train)\n",
    "X_train_tfidf"
   ]
  },
  {
   "cell_type": "code",
   "execution_count": 121,
   "metadata": {},
   "outputs": [
    {
     "data": {
      "text/plain": [
       "(15776,)"
      ]
     },
     "execution_count": 121,
     "metadata": {},
     "output_type": "execute_result"
    }
   ],
   "source": [
    "y_train.shape"
   ]
  },
  {
   "cell_type": "code",
   "execution_count": 122,
   "metadata": {},
   "outputs": [
    {
     "data": {
      "text/plain": [
       "(15776, 3694)"
      ]
     },
     "execution_count": 122,
     "metadata": {},
     "output_type": "execute_result"
    }
   ],
   "source": [
    "X_train_tfidf.shape"
   ]
  },
  {
   "cell_type": "code",
   "execution_count": 123,
   "metadata": {},
   "outputs": [
    {
     "data": {
      "text/plain": [
       "(3944,)"
      ]
     },
     "execution_count": 123,
     "metadata": {},
     "output_type": "execute_result"
    }
   ],
   "source": [
    "X_test.shape"
   ]
  },
  {
   "cell_type": "code",
   "execution_count": 126,
   "metadata": {},
   "outputs": [
    {
     "data": {
      "text/plain": [
       "(3944,)"
      ]
     },
     "execution_count": 126,
     "metadata": {},
     "output_type": "execute_result"
    }
   ],
   "source": [
    "y_test.shape"
   ]
  },
  {
   "cell_type": "code",
   "execution_count": 144,
   "metadata": {},
   "outputs": [
    {
     "data": {
      "text/plain": [
       "<3944x3694 sparse matrix of type '<class 'numpy.float64'>'\n",
       "\twith 13819 stored elements in Compressed Sparse Row format>"
      ]
     },
     "execution_count": 144,
     "metadata": {},
     "output_type": "execute_result"
    }
   ],
   "source": [
    "X_test_tfidf"
   ]
  },
  {
   "cell_type": "code",
   "execution_count": 130,
   "metadata": {},
   "outputs": [],
   "source": [
    "clf2 = MultinomialNB(alpha = 0.1).fit(X_train_tfidf, y_train)\n",
    "X_test_tfidf = tfidf_vect.transform(X_test)\n",
    "y_pred  = clf2.predict(X_test_tfidf)\n",
    "acc = accuracy_score(y_test,y_pred)"
   ]
  },
  {
   "cell_type": "code",
   "execution_count": 131,
   "metadata": {},
   "outputs": [
    {
     "data": {
      "text/plain": [
       "<3944x3694 sparse matrix of type '<class 'numpy.float64'>'\n",
       "\twith 13819 stored elements in Compressed Sparse Row format>"
      ]
     },
     "execution_count": 131,
     "metadata": {},
     "output_type": "execute_result"
    }
   ],
   "source": [
    "X_test_tfidf"
   ]
  },
  {
   "cell_type": "code",
   "execution_count": 132,
   "metadata": {},
   "outputs": [
    {
     "name": "stdout",
     "output_type": "stream",
     "text": [
      "Overall accuracy : 0.9406693711967545\n",
      "F1 micro : 0.9406693711967545\n",
      "F1 macro : 0.8917317559948479\n",
      "F1 for each class : [0.80784314 1.         0.97727273 0.66666667 1.         1.\n",
      " 1.         1.         0.96116505 1.         0.75862069 1.\n",
      " 0.94117647 0.84782609 1.         0.92857143 0.9047619  1.\n",
      " 0.95614035 0.         0.9787234  1.         1.         1.\n",
      " 1.         0.97777778 0.94193548 1.         0.98492462 0.95918367\n",
      " 0.95238095 1.         1.         1.         1.         0.91919192\n",
      " 0.97674419 1.         0.99009901 0.97058824 0.8        0.66666667\n",
      " 1.         0.96551724 1.         1.         0.95769882 0.86021505\n",
      " 0.625      0.97260274 0.98148148 0.8        0.89811321 0.92307692\n",
      " 0.97674419 0.         0.        ]\n"
     ]
    }
   ],
   "source": [
    "print_results(y_test,y_pred)"
   ]
  },
  {
   "cell_type": "markdown",
   "metadata": {},
   "source": [
    "###### SVM classifier (linear with stochastic gradient descent for faster computation)"
   ]
  },
  {
   "cell_type": "code",
   "execution_count": 133,
   "metadata": {},
   "outputs": [],
   "source": [
    "from sklearn.linear_model import SGDClassifier\n",
    "clf_svg = SGDClassifier(loss='hinge', penalty='l2', alpha = 1e-05).fit(X_train_tfidf,y_train)\n",
    "y_pred_svg  = clf_svg.predict(X_test_tfidf)"
   ]
  },
  {
   "cell_type": "code",
   "execution_count": 134,
   "metadata": {},
   "outputs": [
    {
     "name": "stdout",
     "output_type": "stream",
     "text": [
      "Overall accuracy : 0.9523326572008114\n",
      "F1 micro : 0.9523326572008114\n",
      "F1 macro : 0.9283239979542038\n",
      "F1 for each class : [0.8125     1.         0.97727273 0.66666667 1.         1.\n",
      " 1.         1.         0.98039216 1.         0.75621891 1.\n",
      " 0.95825985 0.87058824 1.         0.92857143 0.93023256 1.\n",
      " 0.97368421 1.         0.9787234  1.         1.         1.\n",
      " 1.         0.97777778 0.98666667 1.         0.99502488 0.95205479\n",
      " 0.95238095 1.         1.         0.97368421 1.         0.92708333\n",
      " 0.9875     1.         1.         1.         1.         0.66666667\n",
      " 1.         0.96428571 1.         1.         0.97133221 0.9\n",
      " 0.7        0.98786828 0.98617512 0.8        0.90285714 0.95\n",
      " 1.         0.5        0.        ]\n"
     ]
    }
   ],
   "source": [
    "print_results(y_test,y_pred_svg)"
   ]
  },
  {
   "cell_type": "code",
   "execution_count": 135,
   "metadata": {},
   "outputs": [
    {
     "name": "stdout",
     "output_type": "stream",
     "text": [
      "0.9709685598377282\n"
     ]
    }
   ],
   "source": [
    "#check accuracy in training set to do a sanity check for overfitting\n",
    "pred_train = clf_svg.predict(X_train_tfidf)\n",
    "acc_train = accuracy_score(y_train,pred_train)\n",
    "print(acc_train)"
   ]
  },
  {
   "cell_type": "markdown",
   "metadata": {},
   "source": [
    "###### Stemming"
   ]
  },
  {
   "cell_type": "code",
   "execution_count": 137,
   "metadata": {},
   "outputs": [
    {
     "name": "stdout",
     "output_type": "stream",
     "text": [
      "0       foodwatothveg\n",
      "1       foodwatothveg\n",
      "2       foodwatothveg\n",
      "3    food wat oth veg\n",
      "4           vitamin b\n",
      "Name: PROPERTY_VALUE, dtype: object\n"
     ]
    }
   ],
   "source": [
    "from gensim.parsing.porter import PorterStemmer\n",
    "\n",
    "p = PorterStemmer()\n",
    "\n",
    "for i in range(len(X)):\n",
    "    X.iloc[i] = p.stem_sentence(X.iloc[i])\n",
    "print(X.head())"
   ]
  },
  {
   "cell_type": "code",
   "execution_count": 138,
   "metadata": {},
   "outputs": [],
   "source": [
    "from sklearn.pipeline import Pipeline\n",
    "from sklearn.feature_extraction.text import TfidfTransformer\n",
    "\n",
    "X_train, X_test, y_train, y_test = train_test_split(X, y, test_size=0.1, random_state=100)\n",
    "count_vectorize = CountVectorizer(ngram_range = (1,2), stop_words = 'english', min_df = 2)\n",
    "\n",
    "tfidf_transform = TfidfTransformer()\n",
    "\n",
    "pipeline_svm = Pipeline([('bow', count_vectorize),('tfidf', tfidf_transform),('clf_svg', \n",
    "                              SGDClassifier(loss='hinge', penalty='l2', alpha = 1e-05))])\n",
    "#pipeline_svm = Pipeline([('bow', count_vectorize),('tfidf', tfidf_transform),('clf_svm', SVC(kernel = 'rbf'))])\n",
    "\n",
    "clf_stem = pipeline_svm.fit(X_train, y_train)\n",
    "y_pred_stem  = clf_stem.predict(X_test)"
   ]
  },
  {
   "cell_type": "code",
   "execution_count": 139,
   "metadata": {
    "scrolled": true
   },
   "outputs": [
    {
     "name": "stdout",
     "output_type": "stream",
     "text": [
      "Overall accuracy : 0.9563894523326572\n",
      "F1 micro : 0.9563894523326572\n",
      "F1 macro : 0.9246495899416944\n",
      "F1 for each class : [0.87096774 1.         0.97297297 1.         0.91666667 0.8\n",
      " 1.         1.         0.97247706 1.         0.79012346 1.\n",
      " 0.96270396 0.80851064 1.         0.88888889 0.8        0.99259259\n",
      " 1.         1.         1.         1.         1.         0.98795181\n",
      " 0.96629213 1.         1.         0.97142857 0.92307692 1.\n",
      " 1.         1.         1.         0.94949495 0.97321429 1.\n",
      " 1.         1.         0.55555556 1.         0.88888889 1.\n",
      " 1.         0.96774194 0.94736842 0.8        0.98648649 0.99173554\n",
      " 0.6        0.9047619  0.94117647 1.         0.8        0.        ]\n"
     ]
    }
   ],
   "source": [
    "print_results(y_test,y_pred_stem)"
   ]
  },
  {
   "cell_type": "code",
   "execution_count": 150,
   "metadata": {},
   "outputs": [],
   "source": [
    "class YClass( object ):\n",
    "    pass\n",
    "\n",
    "args = YClass()\n",
    "setattr(args,'config_file','/Users/matentzn/knocean/data-harmonization/src/mapping-suggest/mapping-suggest-config.yml')\n",
    "setattr(args,'tsv_path','/Users/matentzn/knocean/data-harmonization/build/intermediate/koges-xrefs-sparql.csv')\n",
    "setattr(args,'tsv_out_path','/Users/matentzn/knocean/data-harmonization/templates/_koges_simple.tsv')"
   ]
  },
  {
   "cell_type": "code",
   "execution_count": 161,
   "metadata": {},
   "outputs": [],
   "source": [
    "tsv=pd.read_csv(args.tsv_path,sep=\",\")\n",
    "tsv_terms=tsv['label'].values[2:]\n",
    "koges_test=[obo_id_to_iri(item) for item in tsv['to'].values[2:]]\n",
    "\n",
    "koges_tfidf = tfidf_vect.transform(tsv_terms)\n",
    "koges_pred  = clf2.predict(koges_tfidf)\n",
    "acc = accuracy_score(koges_test,koges_pred)"
   ]
  },
  {
   "cell_type": "code",
   "execution_count": 162,
   "metadata": {
    "scrolled": true
   },
   "outputs": [
    {
     "name": "stdout",
     "output_type": "stream",
     "text": [
      "Overall accuracy : 0.2474747474747475\n",
      "F1 micro : 0.2474747474747475\n",
      "F1 macro : 0.2365055439650495\n",
      "F1 for each class : [0.23529412 0.5        0.         0.8        0.         0.\n",
      " 0.         0.         0.         0.         0.         0.\n",
      " 0.66666667 0.8        0.         0.         0.34782609 0.\n",
      " 1.         0.         0.         0.57142857 0.70588235 0.26666667\n",
      " 0.         0.         0.         0.5        1.         0.22222222\n",
      " 0.         0.61538462 0.         0.         0.28282828 0.        ]\n"
     ]
    }
   ],
   "source": [
    "print_results(koges_test,koges_pred)"
   ]
  },
  {
   "cell_type": "code",
   "execution_count": null,
   "metadata": {},
   "outputs": [],
   "source": []
  }
 ],
 "metadata": {
  "kernelspec": {
   "display_name": "Python 3",
   "language": "python",
   "name": "python3"
  },
  "language_info": {
   "codemirror_mode": {
    "name": "ipython",
    "version": 3
   },
   "file_extension": ".py",
   "mimetype": "text/x-python",
   "name": "python",
   "nbconvert_exporter": "python",
   "pygments_lexer": "ipython3",
   "version": "3.8.3"
  }
 },
 "nbformat": 4,
 "nbformat_minor": 4
}
