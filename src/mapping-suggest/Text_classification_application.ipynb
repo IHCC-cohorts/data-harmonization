{
 "cells": [
  {
   "cell_type": "markdown",
   "metadata": {},
   "source": [
    "### Text Classification application for easyJet\n",
    "###### Work order classifier"
   ]
  },
  {
   "cell_type": "code",
   "execution_count": 1,
   "metadata": {},
   "outputs": [],
   "source": [
    "#Load libraries\n",
    "import pandas as pd \n",
    "import numpy as np\n",
    "import matplotlib.pyplot as plt\n",
    "import seaborn as sns\n",
    "from sklearn.metrics import f1_score"
   ]
  },
  {
   "cell_type": "code",
   "execution_count": 2,
   "metadata": {},
   "outputs": [
    {
     "name": "stdout",
     "output_type": "stream",
     "text": [
      "Number of rows: 352388\n"
     ]
    },
    {
     "data": {
      "text/html": [
       "<div>\n",
       "<style scoped>\n",
       "    .dataframe tbody tr th:only-of-type {\n",
       "        vertical-align: middle;\n",
       "    }\n",
       "\n",
       "    .dataframe tbody tr th {\n",
       "        vertical-align: top;\n",
       "    }\n",
       "\n",
       "    .dataframe thead th {\n",
       "        text-align: right;\n",
       "    }\n",
       "</style>\n",
       "<table border=\"1\" class=\"dataframe\">\n",
       "  <thead>\n",
       "    <tr style=\"text-align: right;\">\n",
       "      <th></th>\n",
       "      <th>description</th>\n",
       "      <th>ata_short</th>\n",
       "    </tr>\n",
       "  </thead>\n",
       "  <tbody>\n",
       "    <tr>\n",
       "      <td>0</td>\n",
       "      <td>PERFORM ON PN: CFM56-5B4-3 SN:699420OP CHECK M...</td>\n",
       "      <td>72</td>\n",
       "    </tr>\n",
       "    <tr>\n",
       "      <td>1</td>\n",
       "      <td>CREW RESET=&gt; FMGC 2 SUCCESSFUL RESET ON GND AS...</td>\n",
       "      <td>5</td>\n",
       "    </tr>\n",
       "    <tr>\n",
       "      <td>2</td>\n",
       "      <td>OIL UPLIFT REPORTED BY  IAN H</td>\n",
       "      <td>12</td>\n",
       "    </tr>\n",
       "    <tr>\n",
       "      <td>3</td>\n",
       "      <td>LTM DEF NO 5000690682-0010ENG 2 BLEED AIR FAUL...</td>\n",
       "      <td>72</td>\n",
       "    </tr>\n",
       "    <tr>\n",
       "      <td>4</td>\n",
       "      <td>PERFORM DAILY CHECK</td>\n",
       "      <td>5</td>\n",
       "    </tr>\n",
       "  </tbody>\n",
       "</table>\n",
       "</div>"
      ],
      "text/plain": [
       "                                         description  ata_short\n",
       "0  PERFORM ON PN: CFM56-5B4-3 SN:699420OP CHECK M...         72\n",
       "1  CREW RESET=> FMGC 2 SUCCESSFUL RESET ON GND AS...          5\n",
       "2                      OIL UPLIFT REPORTED BY  IAN H         12\n",
       "3  LTM DEF NO 5000690682-0010ENG 2 BLEED AIR FAUL...         72\n",
       "4                                PERFORM DAILY CHECK          5"
      ]
     },
     "execution_count": 2,
     "metadata": {},
     "output_type": "execute_result"
    }
   ],
   "source": [
    "# Load dataset with work orders and their labels\n",
    "# Excluded records that had missing labels\n",
    "# A subset of the original dataset, \n",
    "# subsampling only from the six most frequent classes, keeping original proportions\n",
    "\n",
    "df = pd.read_csv('Sample_wo_data.csv')[['description','ata_short']]\n",
    "print('Number of rows: '+str(len(df)))\n",
    "\n",
    "df.head()"
   ]
  },
  {
   "cell_type": "markdown",
   "metadata": {},
   "source": [
    "###### Check for missing decriptions, remove these records"
   ]
  },
  {
   "cell_type": "code",
   "execution_count": 3,
   "metadata": {},
   "outputs": [
    {
     "name": "stdout",
     "output_type": "stream",
     "text": [
      "True\n",
      "352386\n"
     ]
    }
   ],
   "source": [
    "print(df.description.isnull().any())\n",
    "df.dropna(inplace = True)\n",
    "print(len(df))"
   ]
  },
  {
   "cell_type": "code",
   "execution_count": 4,
   "metadata": {},
   "outputs": [
    {
     "data": {
      "text/html": [
       "<div>\n",
       "<style scoped>\n",
       "    .dataframe tbody tr th:only-of-type {\n",
       "        vertical-align: middle;\n",
       "    }\n",
       "\n",
       "    .dataframe tbody tr th {\n",
       "        vertical-align: top;\n",
       "    }\n",
       "\n",
       "    .dataframe thead th {\n",
       "        text-align: right;\n",
       "    }\n",
       "</style>\n",
       "<table border=\"1\" class=\"dataframe\">\n",
       "  <thead>\n",
       "    <tr style=\"text-align: right;\">\n",
       "      <th></th>\n",
       "      <th>description</th>\n",
       "    </tr>\n",
       "    <tr>\n",
       "      <th>ata_short</th>\n",
       "      <th></th>\n",
       "    </tr>\n",
       "  </thead>\n",
       "  <tbody>\n",
       "    <tr>\n",
       "      <td>5</td>\n",
       "      <td>125453</td>\n",
       "    </tr>\n",
       "    <tr>\n",
       "      <td>12</td>\n",
       "      <td>44193</td>\n",
       "    </tr>\n",
       "    <tr>\n",
       "      <td>25</td>\n",
       "      <td>88878</td>\n",
       "    </tr>\n",
       "    <tr>\n",
       "      <td>32</td>\n",
       "      <td>28330</td>\n",
       "    </tr>\n",
       "    <tr>\n",
       "      <td>33</td>\n",
       "      <td>43386</td>\n",
       "    </tr>\n",
       "    <tr>\n",
       "      <td>72</td>\n",
       "      <td>22146</td>\n",
       "    </tr>\n",
       "  </tbody>\n",
       "</table>\n",
       "</div>"
      ],
      "text/plain": [
       "           description\n",
       "ata_short             \n",
       "5               125453\n",
       "12               44193\n",
       "25               88878\n",
       "32               28330\n",
       "33               43386\n",
       "72               22146"
      ]
     },
     "execution_count": 4,
     "metadata": {},
     "output_type": "execute_result"
    }
   ],
   "source": [
    "df.groupby('ata_short').count()"
   ]
  },
  {
   "cell_type": "code",
   "execution_count": 5,
   "metadata": {},
   "outputs": [
    {
     "data": {
      "image/png": "[encoded data removed]",
      "text/plain": [
       "<Figure size 720x360 with 1 Axes>"
      ]
     },
     "metadata": {
      "needs_background": "light"
     },
     "output_type": "display_data"
    }
   ],
   "source": [
    "y_counts = df.ata_short.value_counts()\n",
    "plt.figure(figsize=(10,5))\n",
    "sns.barplot(y_counts.index, y_counts.values, alpha=0.8)\n",
    "plt.title('Class distribution')\n",
    "plt.ylabel('Number of Occurrences', fontsize=12)\n",
    "plt.xlabel('ata class', fontsize=12)\n",
    "plt.show()"
   ]
  },
  {
   "cell_type": "code",
   "execution_count": 6,
   "metadata": {},
   "outputs": [],
   "source": [
    "X = df.description\n",
    "y = df.ata_short"
   ]
  },
  {
   "cell_type": "markdown",
   "metadata": {},
   "source": [
    "###### Remove all numbers and underscores from text"
   ]
  },
  {
   "cell_type": "code",
   "execution_count": 7,
   "metadata": {},
   "outputs": [],
   "source": [
    "X = X.str.replace('[\\d_]+','')"
   ]
  },
  {
   "cell_type": "markdown",
   "metadata": {},
   "source": [
    "###### Split to train/test set"
   ]
  },
  {
   "cell_type": "code",
   "execution_count": 8,
   "metadata": {},
   "outputs": [],
   "source": [
    "from sklearn.model_selection import train_test_split\n",
    "X_train, X_test, y_train, y_test = train_test_split(X, y, test_size=0.2, random_state=100, stratify = y)"
   ]
  },
  {
   "cell_type": "markdown",
   "metadata": {},
   "source": [
    "### Feature generation\n",
    "Use countvectorizer (bag of words) and then Tfidftransformer (uses inverse document frequencty to account for relevance of words)\n",
    "\n",
    "Countvectorizer converts all characters to lowercase by default. Punctuation is ignored. \n",
    "Only words with >= 2 characters are considered\n",
    "Use bigrams and remove stop_words"
   ]
  },
  {
   "cell_type": "markdown",
   "metadata": {},
   "source": [
    "###### Bag of words"
   ]
  },
  {
   "cell_type": "code",
   "execution_count": 9,
   "metadata": {},
   "outputs": [],
   "source": [
    "from sklearn.feature_extraction.text import CountVectorizer\n",
    "count_vect = CountVectorizer(ngram_range = (1,2), stop_words = 'english', min_df = 2).fit(X_train)\n",
    "X_train_counts = count_vect.transform(X_train)"
   ]
  },
  {
   "cell_type": "code",
   "execution_count": 10,
   "metadata": {},
   "outputs": [],
   "source": [
    "vocabulary = count_vect.vocabulary_"
   ]
  },
  {
   "cell_type": "code",
   "execution_count": 16,
   "metadata": {},
   "outputs": [
    {
     "data": {
      "text/plain": [
       "(281908, 93393)"
      ]
     },
     "execution_count": 16,
     "metadata": {},
     "output_type": "execute_result"
    }
   ],
   "source": [
    "X_train_counts.shape"
   ]
  },
  {
   "cell_type": "code",
   "execution_count": 11,
   "metadata": {},
   "outputs": [
    {
     "name": "stdout",
     "output_type": "stream",
     "text": [
      "[('check', 96571), ('daily', 79518), ('perform', 74065), ('daily check', 70301), ('reported', 52441), ('perform daily', 49962), ('task', 43177), ('oil', 42670), ('ref', 40590), ('inspection', 33250), ('cfm', 30825), ('engine', 29574), ('required', 29556), ('light', 27138), ('seat', 26162), ('uplift', 25085), ('oil uplift', 25050), ('fan', 24525), ('eze', 20990), ('installed', 20978), ('pn', 19419), ('iaw', 19342), ('sn', 19081), ('form', 18627), ('finding', 18087), ('order', 17621), ('bow', 17485), ('form eze', 17472), ('amp', 16089), ('amp task', 16073), ('lh', 15923), ('fwd', 15850), ('rh', 15753), ('amm', 15555), ('door', 15170), ('easyjet', 15113), ('inop', 15016), ('descr', 14980), ('em', 14929), ('work', 14366), ('international', 14310), ('cfm international', 14310), ('em engine', 13967), ('pn cfm', 13845), ('installed em', 13794), ('note', 13752), ('uplift reported', 13659), ('task installed', 13639), ('etpm', 13579), ('gear', 13247), ('landing', 13132), ('finding bow', 12625), ('ref task', 11938), ('independent', 11807), ('missing', 11646), ('bow reported', 11506), ('descr cfm', 11122), ('master', 10985), ('replace', 10985), ('aft', 10963), ('check required', 10905), ('galley', 10407), ('landing gear', 10369), ('independent inspection', 10347), ('inspection required', 10151), ('mlg', 9762), ('uplift finding', 9305), ('broken', 9262), ('cabin', 9246), ('correct', 9139), ('ref etpm', 9134), ('check iaw', 9018), ('main', 8996), ('apu', 8858), ('iaw form', 8850), ('chip', 8297), ('cfm sn', 8280), ('carry', 8015), ('rear', 8012), ('task independent', 7953), ('nose', 7776), ('ensure', 7705), ('perform pn', 7589), ('required form', 7535), ('ref amm', 7412), ('add', 7398), ('eng', 7319), ('spares', 7215), ('wheel', 7131), ('engine lh', 6955), ('engine rh', 6858), ('abc', 6843), ('rev', 6812), ('completed', 6787), ('left', 6750), ('work order', 6664), ('cover', 6661), ('detector', 6562), ('chip detector', 6541), ('nrc', 6528)]\n"
     ]
    }
   ],
   "source": [
    "#Get the most frequent words\n",
    "sum_words = X_train_counts.sum(axis=0) \n",
    "words_freq = [(word, sum_words[0, idx]) for word, idx in vocabulary.items()]\n",
    "words_freq =sorted(words_freq, key = lambda x: x[1], reverse=True)\n",
    "print(words_freq[:100])"
   ]
  },
  {
   "cell_type": "code",
   "execution_count": 12,
   "metadata": {},
   "outputs": [
    {
     "name": "stdout",
     "output_type": "stream",
     "text": [
      "[('duct distribution', 2), ('distribution bay', 2), ('bay air', 2), ('air condibay', 2), ('condibay torn', 2), ('total reported', 2), ('duct pack', 2), ('wet requires', 2), ('support needed', 2), ('exposed composite', 2), ('reported fod', 2), ('item neon', 2), ('qrhsuccessful', 2), ('iaw qrhsuccessful', 2), ('gezdn req', 2), ('cushion badcondition', 2), ('chord missing', 2), ('ezin', 2), ('lh loose', 2), ('pocket brokenspares', 2), ('samplestake', 2), ('hydraulisystems', 2), ('ioana', 2), ('dalla', 2), ('barbaairbus', 2), ('expert', 2), ('parc', 2), ('activités', 2), ('marius', 2), ('terce', 2), ('francephone', 2), ('fluid samplestake', 2), ('samplestake sets', 2), ('sets hydraulic', 2), ('yellow hydraulisystems', 2), ('hydraulisystems station', 2), ('holdings analysis', 2), ('forward set', 2), ('tel forward', 2), ('forward second', 2), ('second set', 2), ('samples att', 2), ('att ioana', 2), ('ioana dalla', 2), ('dalla barbaairbus', 2), ('barbaairbus ndt', 2), ('ndt expert', 2), ('expert parc', 2), ('parc activités', 2), ('activités st', 2), ('st martin', 2), ('martin du', 2), ('du touch', 2), ('touch rue', 2), ('rue marius', 2), ('marius terce', 2), ('terce bp', 2), ('bp toulouse', 2), ('toulouse cedex', 2), ('cedex francephone', 2), ('francephone fax', 2), ('fax make', 2), ('seat brokencl', 2), ('rolland', 2), ('lav bassinet', 2), ('eft', 2), ('visor nut', 2), ('wind slope', 2), ('wet wee', 2), ('level hydrolock', 2), ('hydraulic accu', 2), ('panel funnel', 2), ('cushion sick', 2), ('cids successfull', 2), ('remove vent', 2), ('cabin ef', 2), ('lining need', 2), ('elevator static', 2), ('scuffed worn', 2), ('stail', 2), ('pos soiled', 2), ('seatcover change', 2), ('installed mtce', 2), ('airframe eng', 2), ('held ltn', 2), ('captain loose', 2), ('upright button', 2), ('ensure brake', 2), ('boiler turned', 2), ('seat permanently', 2), ('permanently reclined', 2), ('section retaining', 2), ('tail port', 2), ('going past', 2), ('cover literature', 2), ('eol right', 2), ('waste decal', 2), ('distortion blade', 2), ('aim iaw', 2), ('keeps getting', 2)]\n"
     ]
    }
   ],
   "source": [
    "# Get the least frequent words\n",
    "print(words_freq[-100:])"
   ]
  },
  {
   "cell_type": "code",
   "execution_count": 13,
   "metadata": {},
   "outputs": [],
   "source": [
    "from sklearn.naive_bayes import MultinomialNB\n",
    "clf = MultinomialNB(alpha = 0.1).fit(X_train_counts, y_train)"
   ]
  },
  {
   "cell_type": "code",
   "execution_count": 14,
   "metadata": {},
   "outputs": [],
   "source": [
    "from sklearn.metrics import accuracy_score\n",
    "X_test_counts = count_vect.transform(X_test)\n",
    "y_pred  = clf.predict(X_test_counts)"
   ]
  },
  {
   "cell_type": "code",
   "execution_count": 15,
   "metadata": {},
   "outputs": [],
   "source": [
    "def print_results(y_test,y_pred):\n",
    "    acc = accuracy_score(y_test,y_pred)\n",
    "    print('Overall accuracy : '+str(acc))\n",
    "    f1_micro = f1_score(y_test, y_pred, average = 'micro')\n",
    "    f1_macro = f1_score(y_test, y_pred, average = 'macro')\n",
    "    f1_all = f1_score(y_test, y_pred, average = None)\n",
    "\n",
    "    print('F1 micro : ' +str(f1_micro))\n",
    "    print('F1 macro : ' +str(f1_macro))\n",
    "    print('F1 for each class : ' +str(f1_all))"
   ]
  },
  {
   "cell_type": "code",
   "execution_count": 17,
   "metadata": {},
   "outputs": [
    {
     "name": "stdout",
     "output_type": "stream",
     "text": [
      "Overall accuracy : 0.9253384034734243\n",
      "F1 micro : 0.9253384034734244\n",
      "F1 macro : 0.9248130636326635\n",
      "F1 for each class : [0.92152674 0.86888246 0.94595718 0.92040272 0.93590742 0.95620186]\n"
     ]
    }
   ],
   "source": [
    "print_results(y_test,y_pred)"
   ]
  },
  {
   "cell_type": "markdown",
   "metadata": {},
   "source": [
    "###### TFIDF"
   ]
  },
  {
   "cell_type": "code",
   "execution_count": 18,
   "metadata": {},
   "outputs": [],
   "source": [
    "from sklearn.feature_extraction.text import TfidfVectorizer\n",
    "tfidf_vect = TfidfVectorizer(ngram_range = (1,2), stop_words = 'english', min_df = 2).fit(X_train)\n",
    "X_train_tfidf = tfidf_vect.transform(X_train)"
   ]
  },
  {
   "cell_type": "code",
   "execution_count": 23,
   "metadata": {},
   "outputs": [],
   "source": [
    "clf2 = MultinomialNB(alpha = 0.1).fit(X_train_tfidf, y_train)\n",
    "X_test_tfidf = tfidf_vect.transform(X_test)\n",
    "y_pred  = clf.predict(X_test_tfidf) # MISTAKE!\n",
    "acc = accuracy_score(y_test,y_pred)"
   ]
  },
  {
   "cell_type": "code",
   "execution_count": 24,
   "metadata": {},
   "outputs": [
    {
     "name": "stdout",
     "output_type": "stream",
     "text": [
      "Overall accuracy : 0.9307301569284032\n",
      "F1 micro : 0.9307301569284032\n",
      "F1 macro : 0.9304127942950728\n",
      "F1 for each class : [0.92634606 0.87992361 0.94946764 0.92596455 0.94248985 0.95828505]\n"
     ]
    }
   ],
   "source": [
    "print_results(y_test,y_pred)"
   ]
  },
  {
   "cell_type": "markdown",
   "metadata": {},
   "source": [
    "###### SVM classifier (linear with stochastic gradient descent for faster computation)"
   ]
  },
  {
   "cell_type": "code",
   "execution_count": 25,
   "metadata": {},
   "outputs": [],
   "source": [
    "from sklearn.linear_model import SGDClassifier\n",
    "clf_svg = SGDClassifier(loss='hinge', penalty='l2', alpha = 1e-05).fit(X_train_tfidf,y_train)\n",
    "y_pred_svg  = clf_svg.predict(X_test_tfidf)"
   ]
  },
  {
   "cell_type": "code",
   "execution_count": 27,
   "metadata": {},
   "outputs": [
    {
     "name": "stdout",
     "output_type": "stream",
     "text": [
      "Overall accuracy : 0.9465790743210647\n",
      "F1 micro : 0.9465790743210647\n",
      "F1 macro : 0.9483497787262859\n",
      "F1 for each class : [0.94288382 0.9225088  0.95365794 0.9419366  0.95557612 0.9735354 ]\n"
     ]
    }
   ],
   "source": [
    "print_results(y_test,y_pred_svg)"
   ]
  },
  {
   "cell_type": "code",
   "execution_count": 28,
   "metadata": {},
   "outputs": [
    {
     "name": "stdout",
     "output_type": "stream",
     "text": [
      "0.9536089788157839\n"
     ]
    }
   ],
   "source": [
    "#check accuracy in training set to do a sanity check for overfitting\n",
    "pred_train = clf_svg.predict(X_train_tfidf)\n",
    "acc_train = accuracy_score(y_train,pred_train)\n",
    "print(acc_train)"
   ]
  },
  {
   "cell_type": "markdown",
   "metadata": {},
   "source": [
    "###### Stemming"
   ]
  },
  {
   "cell_type": "code",
   "execution_count": 29,
   "metadata": {},
   "outputs": [
    {
     "name": "stdout",
     "output_type": "stream",
     "text": [
      "0    perform on pn: cfm-b- sn:op check mcd (m)amp t...\n",
      "1    crew reset=> fmgc success reset on gnd as per ...\n",
      "2                           oil uplift report by ian h\n",
      "3    ltm def no -eng bleed air fault encount dure e...\n",
      "4                                  perform daili check\n",
      "Name: description, dtype: object\n"
     ]
    }
   ],
   "source": [
    "from gensim.parsing.porter import PorterStemmer\n",
    "\n",
    "p = PorterStemmer()\n",
    "\n",
    "for i in range(len(X)):\n",
    "    X.iloc[i] = p.stem_sentence(X.iloc[i])\n",
    "print(X.head())"
   ]
  },
  {
   "cell_type": "code",
   "execution_count": 32,
   "metadata": {},
   "outputs": [],
   "source": [
    "from sklearn.pipeline import Pipeline\n",
    "from sklearn.feature_extraction.text import TfidfTransformer\n",
    "\n",
    "X_train, X_test, y_train, y_test = train_test_split(X, y, test_size=0.1, random_state=100)\n",
    "count_vectorize = CountVectorizer(ngram_range = (1,2), stop_words = 'english', min_df = 2)\n",
    "\n",
    "tfidf_transform = TfidfTransformer()\n",
    "\n",
    "pipeline_svm = Pipeline([('bow', count_vectorize),('tfidf', tfidf_transform),('clf_svg', \n",
    "                              SGDClassifier(loss='hinge', penalty='l2', alpha = 1e-05))])\n",
    "#pipeline_svm = Pipeline([('bow', count_vectorize),('tfidf', tfidf_transform),('clf_svm', SVC(kernel = 'rbf'))])\n",
    "\n",
    "clf_stem = pipeline_svm.fit(X_train, y_train)\n",
    "y_pred_stem  = clf_stem.predict(X_test)"
   ]
  },
  {
   "cell_type": "code",
   "execution_count": 33,
   "metadata": {
    "scrolled": false
   },
   "outputs": [
    {
     "name": "stdout",
     "output_type": "stream",
     "text": [
      "Overall accuracy : 0.9481256562331508\n",
      "F1 micro : 0.9481256562331508\n",
      "F1 macro : 0.9496435408616378\n",
      "F1 for each class : [0.94562437 0.92971138 0.9534616  0.94611187 0.95370693 0.96924511]\n"
     ]
    }
   ],
   "source": [
    "print_results(y_test,y_pred_stem)"
   ]
  },
  {
   "cell_type": "code",
   "execution_count": null,
   "metadata": {},
   "outputs": [],
   "source": []
  }
 ],
 "metadata": {
  "kernelspec": {
   "display_name": "Python 3",
   "language": "python",
   "name": "python3"
  },
  "language_info": {
   "codemirror_mode": {
    "name": "ipython",
    "version": 3
   },
   "file_extension": ".py",
   "mimetype": "text/x-python",
   "name": "python",
   "nbconvert_exporter": "python",
   "pygments_lexer": "ipython3",
   "version": "3.8.3"
  }
 },
 "nbformat": 4,
 "nbformat_minor": 2
}
