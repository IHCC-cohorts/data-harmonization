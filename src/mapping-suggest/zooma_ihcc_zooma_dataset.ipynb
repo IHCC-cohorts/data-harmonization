{
 "cells": [
  {
   "cell_type": "markdown",
   "metadata": {},
   "source": [
    "# Generate IHCC dataset for Zooma\n",
    "\n",
    "Zooma allows the mapping of datasets. The mappings themselves can be configured: The idea here is that all existing mappings and some very simple syntactic derivations are loaded into Zooma, which can then be mapped with very high confidence when a new data dictionary tries to map the exact same (or very similar) term. In this notebook, we load all the (previously generated) lexical data of all existing data dictionaries (and GECKO) and generate a Zooma dataset file."
   ]
  },
  {
   "cell_type": "code",
   "execution_count": 1,
   "metadata": {},
   "outputs": [
    {
     "name": "stdout",
     "output_type": "stream",
     "text": [
      "Datasets to be loaded: \n"
     ]
    },
    {
     "data": {
      "text/plain": [
       "['../../build/intermediate/gecko-xrefs-sparql.csv',\n",
       " '../../build/intermediate/koges-xrefs-sparql.csv',\n",
       " '../../build/intermediate/gcs-xrefs-sparql.csv',\n",
       " '../../build/intermediate/genomics-england-xrefs-sparql.csv',\n",
       " '../../build/intermediate/maelstrom-xrefs-sparql.csv',\n",
       " '../../build/intermediate/saprin-xrefs-sparql.csv',\n",
       " '../../build/intermediate/vukuzazi-xrefs-sparql.csv',\n",
       " '../../build/intermediate/gcs-xrefs-sparql.csv',\n",
       " '../../build/intermediate/genomics-england-xrefs-sparql.csv',\n",
       " '../../build/intermediate/maelstrom-xrefs-sparql.csv',\n",
       " '../../build/intermediate/saprin-xrefs-sparql.csv',\n",
       " '../../build/intermediate/vukuzazi-xrefs-sparql.csv']"
      ]
     },
     "execution_count": 1,
     "metadata": {},
     "output_type": "execute_result"
    }
   ],
   "source": [
    "datasets=\"build/intermediate/gecko-xrefs-sparql.csv build/intermediate/koges-xrefs-sparql.csv build/intermediate/gcs-xrefs-sparql.csv build/intermediate/genomics-england-xrefs-sparql.csv build/intermediate/maelstrom-xrefs-sparql.csv build/intermediate/saprin-xrefs-sparql.csv build/intermediate/vukuzazi-xrefs-sparql.csv build/intermediate/gcs-xrefs-sparql.csv build/intermediate/genomics-england-xrefs-sparql.csv build/intermediate/maelstrom-xrefs-sparql.csv build/intermediate/saprin-xrefs-sparql.csv build/intermediate/vukuzazi-xrefs-sparql.csv\"\n",
    "#file_basic_out=\"../../data/ihcc-mapping-suggestions-zooma-basic.tsv\"\n",
    "file_simplestring_out=\"../../data/ihcc-mapping-suggestions-zooma-simplestring.tsv\"\n",
    "\n",
    "datasets=datasets.split(\" \")\n",
    "datasets = [\"../../\" + sub for sub in datasets] \n",
    "print(\"Datasets to be loaded: \")\n",
    "datasets"
   ]
  },
  {
   "cell_type": "code",
   "execution_count": 2,
   "metadata": {},
   "outputs": [],
   "source": [
    "import pandas as pd\n",
    "import csv\n",
    "# Library code\n",
    "from lib import generate_zooma_dataset"
   ]
  },
  {
   "cell_type": "markdown",
   "metadata": {},
   "source": [
    "## Loading all label data from data dictionaries (and GECKO)"
   ]
  },
  {
   "cell_type": "code",
   "execution_count": 3,
   "metadata": {},
   "outputs": [
    {
     "data": {
      "text/html": [
       "<div>\n",
       "<style scoped>\n",
       "    .dataframe tbody tr th:only-of-type {\n",
       "        vertical-align: middle;\n",
       "    }\n",
       "\n",
       "    .dataframe tbody tr th {\n",
       "        vertical-align: top;\n",
       "    }\n",
       "\n",
       "    .dataframe thead th {\n",
       "        text-align: right;\n",
       "    }\n",
       "</style>\n",
       "<table border=\"1\" class=\"dataframe\">\n",
       "  <thead>\n",
       "    <tr style=\"text-align: right;\">\n",
       "      <th></th>\n",
       "      <th>from</th>\n",
       "      <th>to</th>\n",
       "      <th>property</th>\n",
       "      <th>label</th>\n",
       "    </tr>\n",
       "  </thead>\n",
       "  <tbody>\n",
       "    <tr>\n",
       "      <th>0</th>\n",
       "      <td>http://purl.obolibrary.org/obo/GECKO_0000071</td>\n",
       "      <td>GECKO:0000071</td>\n",
       "      <td>http://www.w3.org/2000/01/rdf-schema#label</td>\n",
       "      <td>sleep</td>\n",
       "    </tr>\n",
       "    <tr>\n",
       "      <th>1</th>\n",
       "      <td>http://purl.obolibrary.org/obo/GECKO_0000094</td>\n",
       "      <td>GECKO:0000094</td>\n",
       "      <td>http://www.w3.org/2000/01/rdf-schema#label</td>\n",
       "      <td>associated disease(s)</td>\n",
       "    </tr>\n",
       "    <tr>\n",
       "      <th>2</th>\n",
       "      <td>http://purl.obolibrary.org/obo/OBI_0002118</td>\n",
       "      <td>OBI:0002118</td>\n",
       "      <td>http://www.w3.org/2000/01/rdf-schema#label</td>\n",
       "      <td>WES</td>\n",
       "    </tr>\n",
       "    <tr>\n",
       "      <th>3</th>\n",
       "      <td>http://purl.obolibrary.org/obo/OBI_0000537</td>\n",
       "      <td>OBI:0000537</td>\n",
       "      <td>http://www.w3.org/2000/01/rdf-schema#label</td>\n",
       "      <td>Sequence variants (CNV, SNP arrays)</td>\n",
       "    </tr>\n",
       "    <tr>\n",
       "      <th>4</th>\n",
       "      <td>http://purl.obolibrary.org/obo/GECKO_0000010</td>\n",
       "      <td>GECKO:0000010</td>\n",
       "      <td>http://www.w3.org/2000/01/rdf-schema#label</td>\n",
       "      <td>sex(es) studied in cohort</td>\n",
       "    </tr>\n",
       "    <tr>\n",
       "      <th>...</th>\n",
       "      <td>...</td>\n",
       "      <td>...</td>\n",
       "      <td>...</td>\n",
       "      <td>...</td>\n",
       "    </tr>\n",
       "    <tr>\n",
       "      <th>410</th>\n",
       "      <td>https://purl.ihccglobal.org/VZ_FUSystolicBp</td>\n",
       "      <td>CMO:0000003</td>\n",
       "      <td>http://www.w3.org/2000/01/rdf-schema#label</td>\n",
       "      <td>Clinical Systolic Blood pressure reading</td>\n",
       "    </tr>\n",
       "    <tr>\n",
       "      <th>411</th>\n",
       "      <td>https://purl.ihccglobal.org/VZ_ConcurrMed1</td>\n",
       "      <td>GECKO:0000093</td>\n",
       "      <td>http://www.w3.org/2000/01/rdf-schema#label</td>\n",
       "      <td>Concurrent Medication 1</td>\n",
       "    </tr>\n",
       "    <tr>\n",
       "      <th>412</th>\n",
       "      <td>https://purl.ihccglobal.org/VZ_FUGlucose</td>\n",
       "      <td>UBERON:0000178</td>\n",
       "      <td>http://www.w3.org/2000/01/rdf-schema#label</td>\n",
       "      <td>Follow Up Glucose</td>\n",
       "    </tr>\n",
       "    <tr>\n",
       "      <th>413</th>\n",
       "      <td>https://purl.ihccglobal.org/VZ_EDT2Collected</td>\n",
       "      <td>GECKO:0000112</td>\n",
       "      <td>http://www.w3.org/2000/01/rdf-schema#label</td>\n",
       "      <td>EDT2 Collected</td>\n",
       "    </tr>\n",
       "    <tr>\n",
       "      <th>414</th>\n",
       "      <td>https://purl.ihccglobal.org/VZ_RadiologistLung...</td>\n",
       "      <td>CMO:0000000</td>\n",
       "      <td>http://www.w3.org/2000/01/rdf-schema#label</td>\n",
       "      <td>Radiologist LungFields</td>\n",
       "    </tr>\n",
       "  </tbody>\n",
       "</table>\n",
       "<p>5218 rows × 4 columns</p>\n",
       "</div>"
      ],
      "text/plain": [
       "                                                  from              to  \\\n",
       "0         http://purl.obolibrary.org/obo/GECKO_0000071   GECKO:0000071   \n",
       "1         http://purl.obolibrary.org/obo/GECKO_0000094   GECKO:0000094   \n",
       "2           http://purl.obolibrary.org/obo/OBI_0002118     OBI:0002118   \n",
       "3           http://purl.obolibrary.org/obo/OBI_0000537     OBI:0000537   \n",
       "4         http://purl.obolibrary.org/obo/GECKO_0000010   GECKO:0000010   \n",
       "..                                                 ...             ...   \n",
       "410        https://purl.ihccglobal.org/VZ_FUSystolicBp     CMO:0000003   \n",
       "411         https://purl.ihccglobal.org/VZ_ConcurrMed1   GECKO:0000093   \n",
       "412           https://purl.ihccglobal.org/VZ_FUGlucose  UBERON:0000178   \n",
       "413       https://purl.ihccglobal.org/VZ_EDT2Collected   GECKO:0000112   \n",
       "414  https://purl.ihccglobal.org/VZ_RadiologistLung...     CMO:0000000   \n",
       "\n",
       "                                       property  \\\n",
       "0    http://www.w3.org/2000/01/rdf-schema#label   \n",
       "1    http://www.w3.org/2000/01/rdf-schema#label   \n",
       "2    http://www.w3.org/2000/01/rdf-schema#label   \n",
       "3    http://www.w3.org/2000/01/rdf-schema#label   \n",
       "4    http://www.w3.org/2000/01/rdf-schema#label   \n",
       "..                                          ...   \n",
       "410  http://www.w3.org/2000/01/rdf-schema#label   \n",
       "411  http://www.w3.org/2000/01/rdf-schema#label   \n",
       "412  http://www.w3.org/2000/01/rdf-schema#label   \n",
       "413  http://www.w3.org/2000/01/rdf-schema#label   \n",
       "414  http://www.w3.org/2000/01/rdf-schema#label   \n",
       "\n",
       "                                        label  \n",
       "0                                       sleep  \n",
       "1                       associated disease(s)  \n",
       "2                                         WES  \n",
       "3         Sequence variants (CNV, SNP arrays)  \n",
       "4                   sex(es) studied in cohort  \n",
       "..                                        ...  \n",
       "410  Clinical Systolic Blood pressure reading  \n",
       "411                   Concurrent Medication 1  \n",
       "412                         Follow Up Glucose  \n",
       "413                            EDT2 Collected  \n",
       "414                    Radiologist LungFields  \n",
       "\n",
       "[5218 rows x 4 columns]"
      ]
     },
     "execution_count": 3,
     "metadata": {},
     "output_type": "execute_result"
    }
   ],
   "source": [
    "df = pd.concat([pd.read_csv(f) for f in datasets])\n",
    "df"
   ]
  },
  {
   "cell_type": "markdown",
   "metadata": {},
   "source": [
    "## Building the Zooma dataset from lexical data"
   ]
  },
  {
   "cell_type": "code",
   "execution_count": 4,
   "metadata": {},
   "outputs": [],
   "source": [
    "df_basic_out, df_simplestring_out = generate_zooma_dataset(df)"
   ]
  },
  {
   "cell_type": "markdown",
   "metadata": {},
   "source": [
    "## Saving the Zooma dataset"
   ]
  },
  {
   "cell_type": "code",
   "execution_count": 5,
   "metadata": {},
   "outputs": [],
   "source": [
    "# The basic variant is really just the version of the mappings that contains only the literal labels without any further processing\n",
    "# We decided that there is not really a good reason to use it\n",
    "# df_basic_out.drop_duplicates().to_csv(file_basic_out,index=False, sep=\"\\t\", quoting=csv.QUOTE_NONE, escapechar=\"\\\\\")"
   ]
  },
  {
   "cell_type": "code",
   "execution_count": 6,
   "metadata": {},
   "outputs": [],
   "source": [
    "df_simplestring_out.drop_duplicates().to_csv(file_simplestring_out,index=False, sep=\"\\t\", quoting=csv.QUOTE_NONE, escapechar=\"\\\\\")"
   ]
  }
 ],
 "metadata": {
  "kernelspec": {
   "display_name": "Python 3",
   "language": "python",
   "name": "python3"
  },
  "language_info": {
   "codemirror_mode": {
    "name": "ipython",
    "version": 3
   },
   "file_extension": ".py",
   "mimetype": "text/x-python",
   "name": "python",
   "nbconvert_exporter": "python",
   "pygments_lexer": "ipython3",
   "version": "3.8.3"
  }
 },
 "nbformat": 4,
 "nbformat_minor": 4
}
